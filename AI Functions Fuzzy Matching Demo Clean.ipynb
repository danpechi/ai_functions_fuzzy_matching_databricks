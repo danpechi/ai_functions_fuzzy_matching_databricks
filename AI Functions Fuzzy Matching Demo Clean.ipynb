{
 "cells": [
  {
   "cell_type": "markdown",
   "metadata": {
    "application/vnd.databricks.v1+cell": {
     "cellMetadata": {
      "byteLimit": 2048000,
      "rowLimit": 10000
     },
     "inputWidgets": {},
     "nuid": "4f3fd674-4e03-4861-927d-17e096bf78ed",
     "showTitle": false,
     "tableResultSettingsMap": {},
     "title": ""
    }
   },
   "source": [
    "\n",
    "## Fuzzy Matching Documents\n",
    "\n",
    "This demo walks through identifying documents that have some matches in an existing data store\n",
    "\n",
    "We do this through a pipeline involving Mosaic AI Query and Vector Search. \n",
    "\n",
    "- With AI Query, we run an LLM with batch inference to quickly generate summaries.\n",
    "\n",
    "- With Mosaic Vector Search, we can retrieve similar summaries\n",
    "\n",
    "- Finally, we can verify the potential fuzzy matching documents with AI query"
   ]
  },
  {
   "cell_type": "code",
   "execution_count": 0,
   "metadata": {
    "application/vnd.databricks.v1+cell": {
     "cellMetadata": {
      "byteLimit": 2048000,
      "rowLimit": 10000
     },
     "inputWidgets": {},
     "nuid": "3bfe6b69-622e-442b-a107-bf227051207e",
     "showTitle": false,
     "tableResultSettingsMap": {},
     "title": ""
    }
   },
   "outputs": [],
   "source": [
    "%pip install --upgrade --force-reinstall databricks-vectorsearch \n",
    "dbutils.library.restartPython()"
   ]
  },
  {
   "cell_type": "markdown",
   "metadata": {
    "application/vnd.databricks.v1+cell": {
     "cellMetadata": {
      "byteLimit": 2048000,
      "rowLimit": 10000
     },
     "inputWidgets": {},
     "nuid": "ad811626-b419-4d15-9cf0-13a0a8fab93f",
     "showTitle": false,
     "tableResultSettingsMap": {},
     "title": ""
    }
   },
   "source": [
    "\n",
    "### Data Setup"
   ]
  },
  {
   "cell_type": "code",
   "execution_count": 0,
   "metadata": {
    "application/vnd.databricks.v1+cell": {
     "cellMetadata": {
      "byteLimit": 2048000,
      "rowLimit": 10000
     },
     "inputWidgets": {},
     "nuid": "daea517b-0b87-4fab-950a-7ddde1b3de58",
     "showTitle": false,
     "tableResultSettingsMap": {},
     "title": ""
    }
   },
   "outputs": [],
   "source": [
    "# dbutils.widgets.text(\"endpoint_name\", \"databricks-meta-llama-3-1-8b-instruct\", \"Endpoint Name\")\n",
    "dbutils.widgets.dropdown(\"lm_endpoint_name\", \"databricks-meta-llama-3-1-8b-instruct\", [\"databricks-meta-llama-3-1-8b-instruct\",\"databricks-meta-llama-3-3-70b-instruct\", \"databricks-claude-3-7-sonnet\"], \"LM Endpoint Name\")\n",
    "dbutils.widgets.text(\"embedding_endpoint_name\", \"databricks-gte-large-en\", \"Embedding Endpoint Name\")\n",
    "dbutils.widgets.text(\"catalog_name\", \"batch\", \"Data UC Catalog\")\n",
    "dbutils.widgets.text(\"schema_name\", \"dpechi\", \"Data UC Schema\")\n",
    "dbutils.widgets.text(\"table_name\", \"star_trek_episode_text\", \"Data UC Table Base\")\n",
    "\n",
    "lm_endpoint_name = dbutils.widgets.get(\"lm_endpoint_name\")\n",
    "embedding_endpoint_name = dbutils.widgets.get(\"embedding_endpoint_name\")\n",
    "catalog_name = dbutils.widgets.get(\"catalog_name\")\n",
    "schema_name = dbutils.widgets.get(\"schema_name\")\n",
    "table_name = dbutils.widgets.get(\"table_name\")"
   ]
  },
  {
   "cell_type": "code",
   "execution_count": 0,
   "metadata": {
    "application/vnd.databricks.v1+cell": {
     "cellMetadata": {
      "byteLimit": 2048000,
      "rowLimit": 10000
     },
     "inputWidgets": {},
     "nuid": "5ffefc19-ffae-4984-b3ec-7cdc79b96d23",
     "showTitle": false,
     "tableResultSettingsMap": {},
     "title": ""
    }
   },
   "outputs": [],
   "source": [
    "import pandas as pd\n",
    "df = pd.read_csv('TNG.csv', encoding='latin1')"
   ]
  },
  {
   "cell_type": "code",
   "execution_count": 0,
   "metadata": {
    "application/vnd.databricks.v1+cell": {
     "cellMetadata": {
      "byteLimit": 2048000,
      "rowLimit": 10000
     },
     "inputWidgets": {},
     "nuid": "e9f35432-587e-4cec-95de-5e3beebaabad",
     "showTitle": false,
     "tableResultSettingsMap": {},
     "title": ""
    }
   },
   "outputs": [],
   "source": [
    "df.head()"
   ]
  },
  {
   "cell_type": "code",
   "execution_count": 0,
   "metadata": {
    "application/vnd.databricks.v1+cell": {
     "cellMetadata": {
      "byteLimit": 2048000,
      "rowLimit": 10000
     },
     "inputWidgets": {},
     "nuid": "22a916b4-d66d-4585-83f2-3f3a6f4123db",
     "showTitle": false,
     "tableResultSettingsMap": {},
     "title": ""
    }
   },
   "outputs": [],
   "source": [
    "df_agg = df.groupby(['episode', 'act', 'who']).agg({'text': ' '.join}).reset_index()\n",
    "df_agg"
   ]
  },
  {
   "cell_type": "code",
   "execution_count": 0,
   "metadata": {
    "application/vnd.databricks.v1+cell": {
     "cellMetadata": {
      "byteLimit": 2048000,
      "rowLimit": 10000
     },
     "inputWidgets": {},
     "nuid": "997bb5ec-a219-4ebd-af9b-ab28fa4a40d9",
     "showTitle": false,
     "tableResultSettingsMap": {},
     "title": ""
    }
   },
   "outputs": [],
   "source": [
    "df_agg2 = df.groupby(['episode', 'act']).agg({'text': ' '.join}).reset_index()\n",
    "df_agg2"
   ]
  },
  {
   "cell_type": "code",
   "execution_count": 0,
   "metadata": {
    "application/vnd.databricks.v1+cell": {
     "cellMetadata": {
      "byteLimit": 2048000,
      "rowLimit": 10000
     },
     "inputWidgets": {},
     "nuid": "8ec12ae2-8151-41ac-8b4c-0a135bc01e50",
     "showTitle": false,
     "tableResultSettingsMap": {},
     "title": ""
    }
   },
   "outputs": [],
   "source": [
    "df_agg.columns = [col.lower() for col in df_agg.columns]\n",
    "df_agg2.columns = [col.lower() for col in df_agg2.columns]\n",
    "\n",
    "spark_df = spark.createDataFrame(df_agg.copy())\n",
    "spark_df.write.mode('overwrite').option(\"overwriteSchema\", \"true\").saveAsTable(\".\".join([catalog_name, schema_name, table_name]))\n",
    "\n",
    "spark_df = spark.createDataFrame(df_agg2.copy())\n",
    "spark_df.write.mode('overwrite').option(\"overwriteSchema\", \"true\").saveAsTable(\".\".join([catalog_name, schema_name, f\"{table_name}_act\"]))"
   ]
  },
  {
   "cell_type": "code",
   "execution_count": 0,
   "metadata": {
    "application/vnd.databricks.v1+cell": {
     "cellMetadata": {
      "byteLimit": 2048000,
      "rowLimit": 10000
     },
     "inputWidgets": {},
     "nuid": "d97d73fb-f1bb-4e6e-8f22-d134b6745cf4",
     "showTitle": false,
     "tableResultSettingsMap": {},
     "title": ""
    }
   },
   "outputs": [],
   "source": [
    "spark.sql(f\"\"\"\n",
    "  select \n",
    "  (select count(*) from {\".\".join([catalog_name, schema_name, table_name])}) as count_text2,\n",
    "  (select count(*) from {\".\".join([catalog_name, schema_name, table_name+\"_act\"])}) as count_text_act\n",
    "  \"\"\").display()"
   ]
  },
  {
   "cell_type": "code",
   "execution_count": 0,
   "metadata": {
    "application/vnd.databricks.v1+cell": {
     "cellMetadata": {
      "byteLimit": 2048000,
      "rowLimit": 10000
     },
     "inputWidgets": {},
     "nuid": "2dc4ce62-f4b5-482b-949c-f40b8f6ff978",
     "showTitle": false,
     "tableResultSettingsMap": {},
     "title": ""
    }
   },
   "outputs": [],
   "source": [
    "spark.sql(f\"\"\"\n",
    "          select * from {\".\".join([catalog_name, schema_name, table_name])}\n",
    "          \"\"\").display()"
   ]
  },
  {
   "cell_type": "markdown",
   "metadata": {
    "application/vnd.databricks.v1+cell": {
     "cellMetadata": {
      "byteLimit": 2048000,
      "rowLimit": 10000
     },
     "inputWidgets": {},
     "nuid": "d7f2d79a-fc92-44b8-889a-87b2a87905ba",
     "showTitle": false,
     "tableResultSettingsMap": {},
     "title": ""
    }
   },
   "source": [
    "\n",
    "### Summarizing Documents with DBSQL + AI Query"
   ]
  },
  {
   "cell_type": "code",
   "execution_count": 0,
   "metadata": {
    "application/vnd.databricks.v1+cell": {
     "cellMetadata": {
      "byteLimit": 2048000,
      "rowLimit": 10000
     },
     "inputWidgets": {},
     "nuid": "51e4aa11-b97e-4c76-8814-e278a6c0b96b",
     "showTitle": false,
     "tableResultSettingsMap": {},
     "title": ""
    }
   },
   "outputs": [],
   "source": [
    "import time\n",
    "\n",
    "\n",
    "start_time = time.time()\n",
    "\n",
    "command = f\"\"\"\n",
    "    SELECT text,  \n",
    "    ai_query(\n",
    "        '{lm_endpoint_name}', -- endpoint name\n",
    "        CONCAT('Provide a 2-3 sentence synopsis of the characters lines from the episode:', text)\n",
    "    ) AS act_synopsis\n",
    "    FROM {\".\".join([catalog_name, schema_name, table_name+\"_act\"])}\n",
    "\"\"\"\n",
    "\n",
    "result = spark.sql(command)\n",
    "\n",
    "display(result)\n",
    "\n",
    "end_time = time.time()\n",
    "execution_time = end_time - start_time\n",
    "print(f\"Execution time: {execution_time} seconds\")"
   ]
  },
  {
   "cell_type": "markdown",
   "metadata": {
    "application/vnd.databricks.v1+cell": {
     "cellMetadata": {
      "byteLimit": 2048000,
      "rowLimit": 10000
     },
     "inputWidgets": {},
     "nuid": "9c077005-540d-4411-b5dd-eb688c0205b2",
     "showTitle": false,
     "tableResultSettingsMap": {},
     "title": ""
    }
   },
   "source": [
    "\n",
    "### Building our Vector Store with Embedded Document Summaries"
   ]
  },
  {
   "cell_type": "code",
   "execution_count": 0,
   "metadata": {
    "application/vnd.databricks.v1+cell": {
     "cellMetadata": {
      "byteLimit": 2048000,
      "rowLimit": 10000
     },
     "inputWidgets": {},
     "nuid": "a0474d68-c56c-4d95-9bba-9af78f34fdaf",
     "showTitle": false,
     "tableResultSettingsMap": {},
     "title": ""
    }
   },
   "outputs": [],
   "source": [
    "delta_table_name = f\"{catalog_name}.{schema_name}.{table_name}_delta\"\n",
    "vector_search_endpoint_name = \"synopsis_endpoint\"\n",
    "vs_index_fullname = f\"{catalog_name}.{schema_name}.{table_name}_index\""
   ]
  },
  {
   "cell_type": "code",
   "execution_count": 0,
   "metadata": {
    "application/vnd.databricks.v1+cell": {
     "cellMetadata": {
      "byteLimit": 2048000,
      "rowLimit": 10000
     },
     "inputWidgets": {},
     "nuid": "fd5c50e6-d5a7-4f66-b77e-a2f486d0fe0d",
     "showTitle": false,
     "tableResultSettingsMap": {},
     "title": ""
    }
   },
   "outputs": [],
   "source": [
    "from pyspark.sql.functions import monotonically_increasing_id\n",
    "\n",
    "result_with_id = result.withColumn(\"id\", monotonically_increasing_id())\n",
    "result_with_id.write.mode('overwrite').format(\"delta\").option(\"delta.enableChangeDataFeed\", \"true\").saveAsTable(delta_table_name)"
   ]
  },
  {
   "cell_type": "code",
   "execution_count": 0,
   "metadata": {
    "application/vnd.databricks.v1+cell": {
     "cellMetadata": {
      "byteLimit": 2048000,
      "rowLimit": 10000
     },
     "inputWidgets": {},
     "nuid": "c7ee4659-92e3-4b6c-8cb8-c858f3957981",
     "showTitle": false,
     "tableResultSettingsMap": {},
     "title": ""
    }
   },
   "outputs": [],
   "source": [
    "from databricks.vector_search.client import VectorSearchClient\n",
    "\n",
    "#building vector store\n",
    "vsc = VectorSearchClient()\n",
    "\n",
    "vsc.create_endpoint(\n",
    "    name=vector_search_endpoint_name,\n",
    "    endpoint_type=\"STANDARD\"\n",
    ")\n",
    "\n",
    "endpoint = vsc.get_endpoint(\n",
    "  name=vector_search_endpoint_name)\n",
    "\n",
    "index = vsc.create_delta_sync_index(\n",
    "  endpoint_name=vector_search_endpoint_name,\n",
    "  source_table_name=delta_table_name,\n",
    "  index_name=vs_index_fullname,\n",
    "  pipeline_type='TRIGGERED',\n",
    "  primary_key=\"id\",\n",
    "  embedding_source_column=\"act_synopsis\",\n",
    "  embedding_model_endpoint_name=embedding_endpoint_name\n",
    ")\n",
    "index.describe()"
   ]
  },
  {
   "cell_type": "markdown",
   "metadata": {
    "application/vnd.databricks.v1+cell": {
     "cellMetadata": {
      "byteLimit": 2048000,
      "rowLimit": 10000
     },
     "inputWidgets": {},
     "nuid": "9e3cfddc-9052-480b-8dcb-175e4e8a9c8b",
     "showTitle": false,
     "tableResultSettingsMap": {},
     "title": ""
    }
   },
   "source": [
    "\n",
    "### Embedding our new documents, and retrieving similar ones from the vector store"
   ]
  },
  {
   "cell_type": "code",
   "execution_count": 0,
   "metadata": {
    "application/vnd.databricks.v1+cell": {
     "cellMetadata": {
      "byteLimit": 2048000,
      "rowLimit": 10000
     },
     "inputWidgets": {},
     "nuid": "b94f10f0-a9e6-4b3b-befb-468ee51ec810",
     "showTitle": false,
     "tableResultSettingsMap": {},
     "title": ""
    }
   },
   "outputs": [],
   "source": [
    "spark.sql(\n",
    "  f\"\"\"\n",
    "  create table if not exists {delta_table_name+\"_emb\"} as\n",
    "select ai_query({\"'\"+embedding_endpoint_name+\"'\"}, act_synopsis) as search_input, act_synopsis from {delta_table_name}\n",
    "\"\"\")"
   ]
  },
  {
   "cell_type": "code",
   "execution_count": 0,
   "metadata": {
    "application/vnd.databricks.v1+cell": {
     "cellMetadata": {
      "byteLimit": 2048000,
      "rowLimit": 10000
     },
     "inputWidgets": {},
     "nuid": "a8b1ffa6-18c8-4c95-8365-332f3f6cebb3",
     "showTitle": false,
     "tableResultSettingsMap": {},
     "title": ""
    }
   },
   "outputs": [],
   "source": [
    "spark.sql(\n",
    "  f\"\"\"\n",
    "  select * from {delta_table_name+\"_emb\"} limit 5\n",
    "  \"\"\")"
   ]
  },
  {
   "cell_type": "code",
   "execution_count": 0,
   "metadata": {
    "application/vnd.databricks.v1+cell": {
     "cellMetadata": {
      "byteLimit": 2048000,
      "rowLimit": 10000
     },
     "inputWidgets": {},
     "nuid": "53bc0cad-e9b6-4fb5-822a-3e44602e22d1",
     "showTitle": false,
     "tableResultSettingsMap": {},
     "title": ""
    }
   },
   "outputs": [],
   "source": [
    "final_matches_init = spark.sql(\n",
    "  f\"\"\"\n",
    "SELECT {delta_table_name + \"_emb\"}.search_input AS search_input, \n",
    "       {delta_table_name + \"_emb\"}.act_synopsis AS search_input_text, \n",
    "       search.act_synopsis AS search_result \n",
    "FROM {delta_table_name + \"_emb\"},\n",
    "LATERAL (\n",
    "  SELECT * FROM vector_search(\n",
    "    index => '{vs_index_fullname}', \n",
    "    query_vector => {delta_table_name + \"_emb\"}.search_input, \n",
    "    num_results => 1\n",
    "  )\n",
    ") AS search\n",
    "\"\"\"\n",
    ")\n",
    "\n",
    "final_matches_init.display()"
   ]
  },
  {
   "cell_type": "markdown",
   "metadata": {
    "application/vnd.databricks.v1+cell": {
     "cellMetadata": {
      "byteLimit": 2048000,
      "rowLimit": 10000
     },
     "inputWidgets": {},
     "nuid": "986ca69b-3aa4-4504-bb8a-955115c83855",
     "showTitle": false,
     "tableResultSettingsMap": {},
     "title": ""
    }
   },
   "source": [
    "\n",
    "### Validating that these are fuzzy matches with AI Query"
   ]
  },
  {
   "cell_type": "code",
   "execution_count": 0,
   "metadata": {
    "application/vnd.databricks.v1+cell": {
     "cellMetadata": {
      "byteLimit": 2048000,
      "rowLimit": 10000
     },
     "inputWidgets": {},
     "nuid": "b814eaf2-44e8-4235-a7bc-8e310d8a87e8",
     "showTitle": false,
     "tableResultSettingsMap": {},
     "title": ""
    }
   },
   "outputs": [],
   "source": [
    "matching_prompt = \"Validate that these 2 summaries are matches. Provide only a yes or no.\"\n",
    "\n",
    "final_matches = final_matches_init.limit(100).selectExpr(\"search_input_text\", \"search_result\", f\"ai_query('{lm_endpoint_name}', CONCAT('{matching_prompt}', 'Summary 1:', search_input_text, 'Summary 2:', search_result)) as output\")\n",
    "\n",
    "\n",
    "final_matches.display()"
   ]
  },
  {
   "cell_type": "code",
   "execution_count": 0,
   "metadata": {
    "application/vnd.databricks.v1+cell": {
     "cellMetadata": {},
     "inputWidgets": {},
     "nuid": "6f1d959f-25ac-427f-bc29-32c0acec78eb",
     "showTitle": false,
     "tableResultSettingsMap": {},
     "title": ""
    }
   },
   "outputs": [],
   "source": []
  }
 ],
 "metadata": {
  "application/vnd.databricks.v1+notebook": {
   "computePreferences": null,
   "dashboards": [],
   "environmentMetadata": null,
   "inputWidgetPreferences": null,
   "language": "python",
   "notebookMetadata": {
    "pythonIndentUnit": 2
   },
   "notebookName": "AI Functions Fuzzy Matching Demo Clean",
   "widgets": {
    "catalog_name": {
     "currentValue": "users",
     "nuid": "65f0f015-bbbb-482d-ad80-bece01cf272a",
     "typedWidgetInfo": {
      "autoCreated": false,
      "defaultValue": "batch",
      "label": "Data UC Catalog",
      "name": "catalog_name",
      "options": {
       "widgetDisplayType": "Text",
       "validationRegex": null
      },
      "parameterDataType": "String"
     },
     "widgetInfo": {
      "widgetType": "text",
      "defaultValue": "batch",
      "label": "Data UC Catalog",
      "name": "catalog_name",
      "options": {
       "widgetType": "text",
       "autoCreated": null,
       "validationRegex": null
      }
     }
    },
    "embedding_endpoint_name": {
     "currentValue": "databricks-gte-large-en",
     "nuid": "6f077246-82cb-44c4-9fd8-fc8ebd0bb6f3",
     "typedWidgetInfo": {
      "autoCreated": false,
      "defaultValue": "databricks-gte-large-en",
      "label": "Embedding Endpoint Name",
      "name": "embedding_endpoint_name",
      "options": {
       "widgetDisplayType": "Text",
       "validationRegex": null
      },
      "parameterDataType": "String"
     },
     "widgetInfo": {
      "widgetType": "text",
      "defaultValue": "databricks-gte-large-en",
      "label": "Embedding Endpoint Name",
      "name": "embedding_endpoint_name",
      "options": {
       "widgetType": "text",
       "autoCreated": null,
       "validationRegex": null
      }
     }
    },
    "lm_endpoint_name": {
     "currentValue": "databricks-meta-llama-3-1-8b-instruct",
     "nuid": "30c47fc2-a902-4b00-9c82-dd9fd317f60f",
     "typedWidgetInfo": {
      "autoCreated": false,
      "defaultValue": "databricks-meta-llama-3-1-8b-instruct",
      "label": "LM Endpoint Name",
      "name": "lm_endpoint_name",
      "options": {
       "widgetDisplayType": "Dropdown",
       "choices": [
        "databricks-meta-llama-3-1-8b-instruct",
        "databricks-meta-llama-3-3-70b-instruct",
        "databricks-claude-3-7-sonnet"
       ],
       "fixedDomain": true,
       "multiselect": false
      },
      "parameterDataType": "String"
     },
     "widgetInfo": {
      "widgetType": "dropdown",
      "defaultValue": "databricks-meta-llama-3-1-8b-instruct",
      "label": "LM Endpoint Name",
      "name": "lm_endpoint_name",
      "options": {
       "widgetType": "dropdown",
       "autoCreated": null,
       "choices": [
        "databricks-meta-llama-3-1-8b-instruct",
        "databricks-meta-llama-3-3-70b-instruct",
        "databricks-claude-3-7-sonnet"
       ]
      }
     }
    },
    "schema_name": {
     "currentValue": "dan_pechi",
     "nuid": "b4e86ac8-2dc1-4af7-8afe-7fd0fd91f85e",
     "typedWidgetInfo": {
      "autoCreated": false,
      "defaultValue": "dpechi",
      "label": "Data UC Schema",
      "name": "schema_name",
      "options": {
       "widgetDisplayType": "Text",
       "validationRegex": null
      },
      "parameterDataType": "String"
     },
     "widgetInfo": {
      "widgetType": "text",
      "defaultValue": "dpechi",
      "label": "Data UC Schema",
      "name": "schema_name",
      "options": {
       "widgetType": "text",
       "autoCreated": null,
       "validationRegex": null
      }
     }
    },
    "table_name": {
     "currentValue": "star_trek_episode_text",
     "nuid": "ec629d66-7f74-4dca-bbb9-2f81b162c9fa",
     "typedWidgetInfo": {
      "autoCreated": false,
      "defaultValue": "star_trek_episode_text",
      "label": "Data UC Table Base",
      "name": "table_name",
      "options": {
       "widgetDisplayType": "Text",
       "validationRegex": null
      },
      "parameterDataType": "String"
     },
     "widgetInfo": {
      "widgetType": "text",
      "defaultValue": "star_trek_episode_text",
      "label": "Data UC Table Base",
      "name": "table_name",
      "options": {
       "widgetType": "text",
       "autoCreated": null,
       "validationRegex": null
      }
     }
    }
   }
  },
  "language_info": {
   "name": "python"
  }
 },
 "nbformat": 4,
 "nbformat_minor": 0
}